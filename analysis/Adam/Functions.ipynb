{
 "cells": [
  {
   "cell_type": "code",
   "execution_count": 2,
   "id": "526638dc-6ecf-4a13-991c-c27df7decec4",
   "metadata": {},
   "outputs": [],
   "source": [
    "def wrangle(path):\n",
    "    dataframe = (pd.read_csv(path).\n",
    "             loc[data[\"date\"] < '2021-07-13'].\n",
    "             drop(columns = ['playoff', 'neutral', 'season', 'date']).\n",
    "             reset_index().\n",
    "             drop(columns = ['index'])\n",
    ")\n",
    "    return dataframe"
   ]
  },
  {
   "cell_type": "code",
   "execution_count": null,
   "id": "faf7c9a0-8e39-4b85-bfef-40d9803c0779",
   "metadata": {},
   "outputs": [],
   "source": []
  }
 ],
 "metadata": {
  "kernelspec": {
   "display_name": "Python 3",
   "language": "python",
   "name": "python3"
  },
  "language_info": {
   "codemirror_mode": {
    "name": "ipython",
    "version": 3
   },
   "file_extension": ".py",
   "mimetype": "text/x-python",
   "name": "python",
   "nbconvert_exporter": "python",
   "pygments_lexer": "ipython3",
   "version": "3.8.5"
  }
 },
 "nbformat": 4,
 "nbformat_minor": 5
}
